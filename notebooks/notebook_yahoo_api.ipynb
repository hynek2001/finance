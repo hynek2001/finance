{
 "cells": [
  {
   "cell_type": "code",
   "execution_count": 31,
   "metadata": {
    "collapsed": true
   },
   "outputs": [
    {
     "name": "stdout",
     "output_type": "stream",
     "text": [
      " Previous Close 3033.53\n",
      " Open 3014.0\n",
      " Bid 3,230.50 x 800\n",
      " Ask 3,237.00 x 1400\n",
      " Day's Range 3,005.05 - 3,092.00\n",
      " 52 Week Range 1,626.03 - 3,344.29\n",
      " Volume 6128265.0\n",
      " Avg. Volume 4675034.0\n",
      " Market Cap 1.522T\n",
      " Beta (5Y Monthly) 1.32\n",
      " PE Ratio (TTM) 145.77\n",
      " EPS (TTM) 20.94\n",
      " Earnings Date Oct 22, 2020\n",
      " Forward Dividend & Yield N/A (N/A)\n",
      " Ex-Dividend Date N/A\n",
      " 1y Target Est 3117.2\n"
     ]
    },
    {
     "data": {
      "text/plain": "{'Previous Close': 3033.53,\n 'Open': 3014.0,\n 'Bid': '3,230.50 x 800',\n 'Ask': '3,237.00 x 1400',\n \"Day's Range\": '3,005.05 - 3,092.00',\n '52 Week Range': '1,626.03 - 3,344.29',\n 'Volume': 6128265.0,\n 'Avg. Volume': 4675034.0,\n 'Market Cap': '1.522T',\n 'Beta (5Y Monthly)': 1.32,\n 'PE Ratio (TTM)': 145.77,\n 'EPS (TTM)': 20.94,\n 'Earnings Date': 'Oct 22, 2020',\n 'Forward Dividend & Yield': 'N/A (N/A)',\n 'Ex-Dividend Date': 'N/A',\n '1y Target Est': 3117.2}"
     },
     "execution_count": 31,
     "metadata": {},
     "output_type": "execute_result"
    }
   ],
   "source": [
    "import requests\n",
    "from bs4 import BeautifulSoup, NavigableString\n",
    "import locale\n",
    "import re\n",
    "# locale.setlocale( locale.LC_ALL, 'en_US.UTF-8' )\n",
    "# konverze do floatu... locale.atof('1,000,000.53')\n",
    "\n",
    "\n",
    "def getNasdaqStock(stock):\n",
    "    \"\"\"get nasdaq stock\"\"\"\n",
    "    r = requests.get(f\"https://finance.yahoo.com/quote/AMZN?p={stock}&.tsrc=fin-srch\").text\n",
    "    soup = BeautifulSoup(r,'html.parser')\n",
    "    alldata = soup.find_all('tbody')\n",
    "    ydata={}\n",
    "    def getLast(tag):\n",
    "        for ii in tag.children:\n",
    "            if isinstance(ii,NavigableString):\n",
    "                return ii\n",
    "            else:\n",
    "                return getLast(ii)\n",
    "\n",
    "    for tables in alldata:\n",
    "        for items in tables.find_all('tr'):\n",
    "            name = items.find_all(\"td\")[0]\n",
    "            value =  getLast(items.find_all(\"td\")[1])\n",
    "            valRes = re.match(\"^[\\d\\,]+\\.*\\d+$\",value)\n",
    "            if valRes != None:\n",
    "                locale.setlocale( locale.LC_ALL, 'en_US.UTF-8' )\n",
    "                ffR=locale.atof(value)\n",
    "                ydata[name.text]=ffR\n",
    "            else:\n",
    "                ydata[name.text]=value\n",
    "    for ii in ydata:\n",
    "        print(f\" {ii} {ydata[ii]}\")\n",
    "    return ydata\n",
    "\n",
    "getNasdaqStock(\"AMZN\")"
   ]
  },
  {
   "cell_type": "code",
   "execution_count": 15,
   "outputs": [
    {
     "data": {
      "text/plain": "<re.Match object; span=(0, 7), match='11,1.00'>"
     },
     "execution_count": 15,
     "metadata": {},
     "output_type": "execute_result"
    }
   ],
   "source": [
    "import re\n",
    "value=\"11,1.00\"\n",
    "valRes = re.match(\"^[\\d\\,]+\\.*\\d+$\",value)\n",
    "valRes"
   ],
   "metadata": {
    "collapsed": false,
    "pycharm": {
     "name": "#%%\n"
    }
   }
  }
 ],
 "metadata": {
  "kernelspec": {
   "name": "pycharm-128da920",
   "language": "python",
   "display_name": "PyCharm (finance)"
  },
  "language_info": {
   "codemirror_mode": {
    "name": "ipython",
    "version": 2
   },
   "file_extension": ".py",
   "mimetype": "text/x-python",
   "name": "python",
   "nbconvert_exporter": "python",
   "pygments_lexer": "ipython2",
   "version": "2.7.6"
  }
 },
 "nbformat": 4,
 "nbformat_minor": 0
}