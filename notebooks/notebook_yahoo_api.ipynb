{
 "cells": [
  {
   "cell_type": "code",
   "execution_count": 35,
   "metadata": {
    "collapsed": true
   },
   "outputs": [
    {
     "name": "stdout",
     "output_type": "stream",
     "text": [
      "{'AMZN': {'Previous Close': 3033.53, 'Open': 3014.0, 'Bid': '3,215.00 x 800', 'Ask': '3,237.00 x 1400', \"Day's Range\": '3,005.05 - 3,092.00', '52 Week Range': '1,626.03 - 3,344.29', 'Volume': 6128265.0, 'Avg. Volume': 4675120.0, 'Market Cap': '1.522T', 'Beta (5Y Monthly)': 1.32, 'PE Ratio (TTM)': 145.77, 'EPS (TTM)': 20.94, 'Earnings Date': 'Oct 22, 2020', 'Forward Dividend & Yield': 'N/A (N/A)', 'Ex-Dividend Date': 'N/A', '1y Target Est': 3117.2}, 'BA': {'Previous Close': 3033.53, 'Open': 3014.0, 'Bid': '3,230.50 x 800', 'Ask': '3,237.00 x 1400', \"Day's Range\": '3,005.05 - 3,092.00', '52 Week Range': '1,626.03 - 3,344.29', 'Volume': 6128265.0, 'Avg. Volume': 4675034.0, 'Market Cap': '1.522T', 'Beta (5Y Monthly)': 1.32, 'PE Ratio (TTM)': 145.77, 'EPS (TTM)': 20.94, 'Earnings Date': 'Oct 22, 2020', 'Forward Dividend & Yield': 'N/A (N/A)', 'Ex-Dividend Date': 'N/A', '1y Target Est': 3117.2}}\n"
     ]
    }
   ],
   "source": [
    "import requests\n",
    "from bs4 import BeautifulSoup, NavigableString\n",
    "import locale\n",
    "import re\n",
    "# locale.setlocale( locale.LC_ALL, 'en_US.UTF-8' )\n",
    "# konverze do floatu... locale.atof('1,000,000.53')\n",
    "\n",
    "\n",
    "def getNasdaqStocks(stocks):\n",
    "    \"\"\"get nasdaq stock\"\"\"\n",
    "    rsDa = {}\n",
    "    for ii in stocks:\n",
    "        rsDa[ii]=getNasdaqStock(stock=ii)\n",
    "    return rsDa\n",
    "\n",
    "\n",
    "def getNasdaqStock(stock):\n",
    "    \"\"\"get nasdaq stock\"\"\"\n",
    "    r = requests.get(f\"https://finance.yahoo.com/quote/AMZN?p={stock}&.tsrc=fin-srch\").text\n",
    "    soup = BeautifulSoup(r,'html.parser')\n",
    "    alldata = soup.find_all('tbody')\n",
    "    ydata={}\n",
    "    def getLast(tag):\n",
    "        for ii in tag.children:\n",
    "            if isinstance(ii,NavigableString):\n",
    "                return ii\n",
    "            else:\n",
    "                return getLast(ii)\n",
    "\n",
    "\n",
    "    for tables in alldata:\n",
    "        for items in tables.find_all('tr'):\n",
    "            name = items.find_all(\"td\")[0]\n",
    "            value =  getLast(items.find_all(\"td\")[1])\n",
    "            valRes = re.match(\"^[\\d\\,]+\\.*\\d+$\",value)\n",
    "            if valRes != None:\n",
    "                locale.setlocale( locale.LC_ALL, 'en_US.UTF-8' )\n",
    "                ffR=locale.atof(value)\n",
    "                ydata[name.text]=ffR\n",
    "            else:\n",
    "                ydata[name.text]=value\n",
    "    # for ii in ydata:\n",
    "    #     print(f\" {ii} {ydata[ii]}\")\n",
    "    return ydata\n",
    "\n",
    "res = getNasdaqStocks(stocks=[\"AMZN\",\"BA\"])\n",
    "print(res)"
   ]
  },
  {
   "cell_type": "code",
   "execution_count": 39,
   "outputs": [
    {
     "data": {
      "text/plain": "507.29813664596276"
     },
     "execution_count": 39,
     "metadata": {},
     "output_type": "execute_result"
    }
   ],
   "source": [
    "81675/161"
   ],
   "metadata": {
    "collapsed": false,
    "pycharm": {
     "name": "#%%\n"
    }
   }
  }
 ],
 "metadata": {
  "kernelspec": {
   "name": "pycharm-128da920",
   "language": "python",
   "display_name": "PyCharm (finance)"
  },
  "language_info": {
   "codemirror_mode": {
    "name": "ipython",
    "version": 2
   },
   "file_extension": ".py",
   "mimetype": "text/x-python",
   "name": "python",
   "nbconvert_exporter": "python",
   "pygments_lexer": "ipython2",
   "version": "2.7.6"
  }
 },
 "nbformat": 4,
 "nbformat_minor": 0
}