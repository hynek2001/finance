{
 "cells": [
  {
   "cell_type": "code",
   "execution_count": 5,
   "outputs": [
    {
     "name": "stdout",
     "output_type": "stream",
     "text": [
      "{'Previous Close': 3182.41, 'Open': 3212.0, 'Bid': '3,311.41 x 800', 'Ask': '3,312.95 x 800', \"Day's Range\": '3,205.82 - 3,315.00', '52 Week Range': '1,626.03 - 3,344.29', 'Volume': 4287464.0, 'Avg. Volume': 4560921.0, 'Market Cap': '1.659T', 'Beta (5Y Monthly)': 1.33, 'PE Ratio (TTM)': 127.22, 'EPS (TTM)': 26.04, 'Earnings Date': 'Oct 22, 2020', 'Forward Dividend & Yield': 'N/A (N/A)', 'Ex-Dividend Date': 'N/A', '1y Target Est': 3630.41}\n"
     ]
    },
    {
     "data": {
      "text/plain": "224.35597189695548"
     },
     "execution_count": 5,
     "metadata": {},
     "output_type": "execute_result"
    }
   ],
   "source": [
    "from mfin.yahoo import getStock\n",
    "aa = getStock(\"AMZN\")\n",
    "print(aa)\n",
    "\n",
    "\n",
    "ce=170.8\n",
    "\n",
    "am=38320\n",
    "am/ce"
   ],
   "metadata": {
    "collapsed": false,
    "pycharm": {
     "name": "#%%\n"
    }
   }
  },
  {
   "cell_type": "code",
   "execution_count": 4,
   "outputs": [
    {
     "data": {
      "text/plain": "38320"
     },
     "execution_count": 4,
     "metadata": {},
     "output_type": "execute_result"
    }
   ],
   "source": [
    "1916*20"
   ],
   "metadata": {
    "collapsed": false,
    "pycharm": {
     "name": "#%%\n"
    }
   }
  }
 ],
 "metadata": {
  "kernelspec": {
   "name": "pycharm-128da920",
   "language": "python",
   "display_name": "PyCharm (finance)"
  },
  "language_info": {
   "codemirror_mode": {
    "name": "ipython",
    "version": 2
   },
   "file_extension": ".py",
   "mimetype": "text/x-python",
   "name": "python",
   "nbconvert_exporter": "python",
   "pygments_lexer": "ipython2",
   "version": "2.7.6"
  }
 },
 "nbformat": 4,
 "nbformat_minor": 0
}