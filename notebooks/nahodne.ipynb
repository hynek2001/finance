{
 "cells": [
  {
   "cell_type": "code",
   "execution_count": 1,
   "metadata": {
    "collapsed": true
   },
   "outputs": [
    {
     "name": "stderr",
     "output_type": "stream",
     "text": [
      "C:\\Users\\tra20\\Anaconda3\\envs\\py38\\lib\\site-packages\\pandas_datareader\\compat\\__init__.py:7: FutureWarning: pandas.util.testing is deprecated. Use the functions in the public API at pandas.testing instead.\n",
      "  from pandas.util.testing import assert_frame_equal\n"
     ]
    }
   ],
   "source": [
    "from helpers.mix import *\n",
    "import pandas as pd\n",
    "\n",
    "\n",
    "tickers = getSP500Tickers()"
   ]
  },
  {
   "cell_type": "code",
   "execution_count": 4,
   "outputs": [
    {
     "data": {
      "text/plain": "            MSFT    BA\nDate                  \n2001-01-02    up    up\n2001-01-03    up  down\n2001-01-04    up    up\n2001-01-05    up  down\n2001-01-08  down  down",
      "text/html": "<div>\n<style scoped>\n    .dataframe tbody tr th:only-of-type {\n        vertical-align: middle;\n    }\n\n    .dataframe tbody tr th {\n        vertical-align: top;\n    }\n\n    .dataframe thead th {\n        text-align: right;\n    }\n</style>\n<table border=\"1\" class=\"dataframe\">\n  <thead>\n    <tr style=\"text-align: right;\">\n      <th></th>\n      <th>MSFT</th>\n      <th>BA</th>\n    </tr>\n    <tr>\n      <th>Date</th>\n      <th></th>\n      <th></th>\n    </tr>\n  </thead>\n  <tbody>\n    <tr>\n      <th>2001-01-02</th>\n      <td>up</td>\n      <td>up</td>\n    </tr>\n    <tr>\n      <th>2001-01-03</th>\n      <td>up</td>\n      <td>down</td>\n    </tr>\n    <tr>\n      <th>2001-01-04</th>\n      <td>up</td>\n      <td>up</td>\n    </tr>\n    <tr>\n      <th>2001-01-05</th>\n      <td>up</td>\n      <td>down</td>\n    </tr>\n    <tr>\n      <th>2001-01-08</th>\n      <td>down</td>\n      <td>down</td>\n    </tr>\n  </tbody>\n</table>\n</div>"
     },
     "execution_count": 4,
     "metadata": {},
     "output_type": "execute_result"
    }
   ],
   "source": [
    "rdf = pd.DataFrame()\n",
    "#for tic in tickers:\n",
    "tdMSFT = getUpDownForTicker('MSFT')\n",
    "tdBA = getUpDownForTicker('BA')\n",
    "tdMSFT.head()\n",
    "tdBA.head()\n",
    "\n",
    "re = pd.DataFrame()\n",
    "re['MSFT']=tdMSFT['smer']\n",
    "re['BA']=tdBA['smer']\n",
    "re.head()"
   ],
   "metadata": {
    "collapsed": false,
    "pycharm": {
     "name": "#%%\n"
    }
   }
  }
 ],
 "metadata": {
  "kernelspec": {
   "name": "pycharm-128da920",
   "language": "python",
   "display_name": "PyCharm (finance)"
  },
  "language_info": {
   "codemirror_mode": {
    "name": "ipython",
    "version": 2
   },
   "file_extension": ".py",
   "mimetype": "text/x-python",
   "name": "python",
   "nbconvert_exporter": "python",
   "pygments_lexer": "ipython2",
   "version": "2.7.6"
  }
 },
 "nbformat": 4,
 "nbformat_minor": 0
}