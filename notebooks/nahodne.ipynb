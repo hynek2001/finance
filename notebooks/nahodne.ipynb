{
 "cells": [
  {
   "cell_type": "code",
   "execution_count": 3,
   "metadata": {
    "collapsed": true
   },
   "outputs": [
    {
     "name": "stderr",
     "output_type": "stream",
     "text": [
      "C:\\Users\\tra20\\Anaconda3\\envs\\py38\\lib\\site-packages\\pandas_datareader\\compat\\__init__.py:7: FutureWarning: pandas.util.testing is deprecated. Use the functions in the public API at pandas.testing instead.\n",
      "  from pandas.util.testing import assert_frame_equal\n"
     ]
    }
   ],
   "source": [
    "from helpers.mix import *\n",
    "import pandas as pd\n",
    "\n",
    "\n",
    "tickers = getSP500Tickers()"
   ]
  },
  {
   "cell_type": "code",
   "execution_count": 10,
   "outputs": [
    {
     "data": {
      "text/plain": "            shoda  MSFT    BA\nDate                         \n2001-01-02      1    up    up\n2001-01-03      0    up  down\n2001-01-04      1    up    up\n2001-01-05      0    up  down\n2001-01-08      1  down  down",
      "text/html": "<div>\n<style scoped>\n    .dataframe tbody tr th:only-of-type {\n        vertical-align: middle;\n    }\n\n    .dataframe tbody tr th {\n        vertical-align: top;\n    }\n\n    .dataframe thead th {\n        text-align: right;\n    }\n</style>\n<table border=\"1\" class=\"dataframe\">\n  <thead>\n    <tr style=\"text-align: right;\">\n      <th></th>\n      <th>shoda</th>\n      <th>MSFT</th>\n      <th>BA</th>\n    </tr>\n    <tr>\n      <th>Date</th>\n      <th></th>\n      <th></th>\n      <th></th>\n    </tr>\n  </thead>\n  <tbody>\n    <tr>\n      <th>2001-01-02</th>\n      <td>1</td>\n      <td>up</td>\n      <td>up</td>\n    </tr>\n    <tr>\n      <th>2001-01-03</th>\n      <td>0</td>\n      <td>up</td>\n      <td>down</td>\n    </tr>\n    <tr>\n      <th>2001-01-04</th>\n      <td>1</td>\n      <td>up</td>\n      <td>up</td>\n    </tr>\n    <tr>\n      <th>2001-01-05</th>\n      <td>0</td>\n      <td>up</td>\n      <td>down</td>\n    </tr>\n    <tr>\n      <th>2001-01-08</th>\n      <td>1</td>\n      <td>down</td>\n      <td>down</td>\n    </tr>\n  </tbody>\n</table>\n</div>"
     },
     "execution_count": 10,
     "metadata": {},
     "output_type": "execute_result"
    }
   ],
   "source": [
    "rdf = pd.DataFrame()\n",
    "#for tic in tickers:\n",
    "tdMSFT = getUpDownForTicker('MSFT')\n",
    "tdBA = getUpDownForTicker('BA')\n",
    "tdMSFT.head()\n",
    "tdBA.head()\n",
    "\n",
    "re=[]\n",
    "for (index,serie) in tdMSFT.iterrows():\n",
    "    if serie['smer'] == tdBA.loc[index,'smer']:\n",
    "        re.append(1)\n",
    "    else:\n",
    "        re.append(0)\n",
    "reDf = pd.DataFrame()\n",
    "reDf['shoda']=re\n",
    "reDf.index=tdMSFT.index\n",
    "reDf['MSFT'] = tdMSFT['smer']\n",
    "reDf['BA'] = tdBA['smer']\n",
    "reDf.head()"
   ],
   "metadata": {
    "collapsed": false,
    "pycharm": {
     "name": "#%%\n"
    }
   }
  },
  {
   "cell_type": "code",
   "execution_count": 13,
   "outputs": [
    {
     "data": {
      "text/plain": "63.692561302287245"
     },
     "execution_count": 13,
     "metadata": {},
     "output_type": "execute_result"
    }
   ],
   "source": [
    "pocet = reDf.shape[0]\n",
    "sum = reDf['shoda'].sum()\n",
    "sh = sum/(pocet/100)\n",
    "sh"
   ],
   "metadata": {
    "collapsed": false,
    "pycharm": {
     "name": "#%%\n"
    }
   }
  },
  {
   "cell_type": "code",
   "execution_count": null,
   "outputs": [
    {
     "data": {
      "text/plain": "Label(value='0')",
      "application/vnd.jupyter.widget-view+json": {
       "version_major": 2,
       "version_minor": 0,
       "model_id": "49982fa75b234032a4dab5df98339281"
      }
     },
     "metadata": {},
     "output_type": "display_data"
    }
   ],
   "source": [
    "from helpers.mix import *\n",
    "from IPython.core.display import display\n",
    "from  ipywidgets.widgets import Label\n",
    "label = Label(value=\"0\")\n",
    "display(label)\n",
    "\n",
    "res = getAllDataDaily()\n",
    "res.head()\n",
    "mTicker='MSFT'\n",
    "mid = ((res.loc[:,'High']-res.loc[:,'Low'])/2)+res.loc[:,'Low']\n",
    "mid.head()\n",
    "# yesterday = mid.loc[mid[1],:]\n",
    "mid = mid.reset_index()\n",
    "\n",
    "for (index,ser) in mid.iterrows():\n",
    "    #label.value=index\n",
    "    if index == 0:\n",
    "        continue\n",
    "    label.value=str(index)\n",
    "    for serIndex,serValue in ser.items():\n",
    "        lab = serIndex\n",
    "        if serIndex == 'Date':\n",
    "            continue\n",
    "        prev = mid.loc[index-1,lab]\n",
    "        now = mid.loc[index,lab]\n",
    "        if pd.isna(prev) or pd.isna(now):\n",
    "            continue\n",
    "        if int(now) >= int(prev):\n",
    "            diff = 1\n",
    "        else:\n",
    "            diff = 0\n",
    "        mid.loc[index:f\"{lab}_SMER\"]=diff\n",
    "\n",
    "\n"
   ],
   "metadata": {
    "collapsed": false,
    "pycharm": {
     "name": "#%%\n",
     "is_executing": true
    }
   }
  },
  {
   "cell_type": "code",
   "execution_count": 26,
   "outputs": [
    {
     "data": {
      "text/plain": "0.0"
     },
     "execution_count": 26,
     "metadata": {},
     "output_type": "execute_result"
    }
   ],
   "source": [
    "mid.loc[1,'L']"
   ],
   "metadata": {
    "collapsed": false,
    "pycharm": {
     "name": "#%%\n"
    }
   }
  }
 ],
 "metadata": {
  "kernelspec": {
   "name": "pycharm-128da920",
   "language": "python",
   "display_name": "PyCharm (finance)"
  },
  "language_info": {
   "codemirror_mode": {
    "name": "ipython",
    "version": 2
   },
   "file_extension": ".py",
   "mimetype": "text/x-python",
   "name": "python",
   "nbconvert_exporter": "python",
   "pygments_lexer": "ipython2",
   "version": "2.7.6"
  }
 },
 "nbformat": 4,
 "nbformat_minor": 0
}