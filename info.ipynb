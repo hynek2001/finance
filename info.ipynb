{
 "cells": [
  {
   "cell_type": "code",
   "execution_count": 0,
   "metadata": {
    "collapsed": true
   },
   "outputs": [],
   "source": [
    "print\n"
   ]
  },
  {
   "cell_type": "markdown",
   "source": [
    "## zdroje nyse dat\n",
    "### zpozdene\n",
    "* yahoo finance\n",
    "\n",
    "### online\n",
    "    * nasdaq https://www.nasdaq.com/market-activity/quotes/real-time\n",
    "    * selected stocks free online https://www.stockstracker.com/"
   ],
   "metadata": {
    "collapsed": false
   }
  }
 ],
 "metadata": {
  "kernelspec": {
   "name": "pycharm-128da920",
   "language": "python",
   "display_name": "PyCharm (finance)"
  },
  "language_info": {
   "codemirror_mode": {
    "name": "ipython",
    "version": 2
   },
   "file_extension": ".py",
   "mimetype": "text/x-python",
   "name": "python",
   "nbconvert_exporter": "python",
   "pygments_lexer": "ipython2",
   "version": "2.7.6"
  }
 },
 "nbformat": 4,
 "nbformat_minor": 0
}